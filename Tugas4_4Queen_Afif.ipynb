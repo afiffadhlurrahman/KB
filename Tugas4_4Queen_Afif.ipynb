{
 "cells": [
  {
   "cell_type": "markdown",
   "metadata": {},
   "source": [
    "Pendefinisian 4 Queen"
   ]
  },
  {
   "cell_type": "code",
   "execution_count": 1,
   "metadata": {},
   "outputs": [],
   "source": [
    "global N \n",
    "N = 4"
   ]
  },
  {
   "cell_type": "markdown",
   "metadata": {},
   "source": [
    "Fungsi untuk print solusi"
   ]
  },
  {
   "cell_type": "code",
   "execution_count": 2,
   "metadata": {},
   "outputs": [],
   "source": [
    "def printSolution(board): \n",
    "\tfor i in range(N): \n",
    "\t\tfor j in range(N): \n",
    "\t\t\tprint(board[i][j]) \n",
    "\t\tprint(\" \")"
   ]
  },
  {
   "cell_type": "markdown",
   "metadata": {},
   "source": [
    "Fungsi utilitas untuk memeriksa apakah queen bisa ditempatkan di papan [baris] [kolom]. Perhatikan bahwa ini fungsi dipanggil ketika \"kolom\" queens sedang sudah ditempatkan di kolom dari 0 hingga kolom -1. Jadi kita hanya perlu memeriksa sisi kiri menyerang queen"
   ]
  },
  {
   "cell_type": "code",
   "execution_count": 3,
   "metadata": {},
   "outputs": [],
   "source": [
    "def isSafe(board, row, col): \n",
    "\n",
    "\t# Periksa baris ini di sisi kiri \n",
    "\tfor i in range(col): \n",
    "\t\tif board[row][i] == 1: \n",
    "\t\t\treturn False\n",
    "        \n",
    "\t# Periksa diagonal atas di sisi kiri\n",
    "\tfor i, j in zip(range(row, -1, -1), range(col, -1, -1)): \n",
    "\t\tif board[i][j] == 1: \n",
    "\t\t\treturn False\n",
    "\n",
    "\t# Periksa diagonal bawah di sisi kiri \n",
    "\tfor i, j in zip(range(row, N, 1), range(col, -1, -1)): \n",
    "\t\tif board[i][j] == 1: \n",
    "\t\t\treturn False\n",
    "\n",
    "\treturn True"
   ]
  },
  {
   "cell_type": "code",
   "execution_count": 4,
   "metadata": {},
   "outputs": [],
   "source": [
    "def solveNQUtil(board, col): \n",
    "\t# kasus dasar: Jika semua ratu ditempatkan \n",
    "\t# lalu return true \n",
    "\tif col >= N: \n",
    "\t\treturn True\n",
    "\n",
    "\t# Pertimbangkan kolom ini dan cobalah menempatkan\n",
    "\t# ratu ini di semua baris satu per satu \n",
    "\tfor i in range(N): \n",
    "\n",
    "\t\tif isSafe(board, i, col): \n",
    "\t\t\t# letakan queen pada board[i][col] \n",
    "\t\t\tboard[i][col] = 1\n",
    "\n",
    "\t\t\t# recursive ketika meletakkan queens \n",
    "\t\t\tif solveNQUtil(board, col + 1) == True: \n",
    "\t\t\t\treturn True\n",
    "\n",
    "\t\t\t# Jika menempatkan ratu di board[i][col] \n",
    "\t\t\t# tidak mengarah ke solusi, kalau begitu \n",
    "\t\t\t# queen dari board[i][col] \n",
    "\t\t\tboard[i][col] = 0\n",
    "\n",
    "\t# jika ratu tidak dapat ditempatkan di baris mana pun di\n",
    "\t# kolom ini col kemudian return false \n",
    "\treturn False"
   ]
  },
  {
   "cell_type": "markdown",
   "metadata": {},
   "source": [
    "Fungsi ini memecahkan masalah 4 Queen. Ini terutama menggunakan resolNQUtil () untuk menyelesaikan masalah. Ini mengembalikan false jika ratu tidak dapat ditempatkan, sebaliknya return true dan penempatan ratu dalam bentuk 1s. perhatikan bahwa mungkin ada lebih dari satu solusi, fungsi ini mencetak salah satu solusi yang layak."
   ]
  },
  {
   "cell_type": "code",
   "execution_count": 5,
   "metadata": {},
   "outputs": [],
   "source": [
    "def solveNQ(): \n",
    "\tboard = [ [0, 0, 0, 0], \n",
    "\t\t\t[0, 0, 0, 0], \n",
    "\t\t\t[0, 0, 0, 0], \n",
    "\t\t\t[0, 0, 0, 0] \n",
    "\t\t\t] \n",
    "\n",
    "\tif solveNQUtil(board, 0) == False: \n",
    "\t\tprint(\"Solution does not exist\")\n",
    "\t\treturn False\n",
    "\n",
    "\tprintSolution(board) \n",
    "\treturn True"
   ]
  },
  {
   "cell_type": "code",
   "execution_count": 6,
   "metadata": {},
   "outputs": [
    {
     "name": "stdout",
     "output_type": "stream",
     "text": [
      "0\n",
      "0\n",
      "1\n",
      "0\n",
      " \n",
      "1\n",
      "0\n",
      "0\n",
      "0\n",
      " \n",
      "0\n",
      "0\n",
      "0\n",
      "1\n",
      " \n",
      "0\n",
      "1\n",
      "0\n",
      "0\n",
      " \n"
     ]
    },
    {
     "data": {
      "text/plain": [
       "True"
      ]
     },
     "execution_count": 6,
     "metadata": {},
     "output_type": "execute_result"
    }
   ],
   "source": [
    "# driver program untuk run function \n",
    "solveNQ() "
   ]
  }
 ],
 "metadata": {
  "kernelspec": {
   "display_name": "Python 3",
   "language": "python",
   "name": "python3"
  },
  "language_info": {
   "codemirror_mode": {
    "name": "ipython",
    "version": 3
   },
   "file_extension": ".py",
   "mimetype": "text/x-python",
   "name": "python",
   "nbconvert_exporter": "python",
   "pygments_lexer": "ipython3",
   "version": "3.7.1"
  }
 },
 "nbformat": 4,
 "nbformat_minor": 4
}
